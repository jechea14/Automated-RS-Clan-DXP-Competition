{
 "metadata": {
  "language_info": {
   "codemirror_mode": {
    "name": "ipython",
    "version": 3
   },
   "file_extension": ".py",
   "mimetype": "text/x-python",
   "name": "python",
   "nbconvert_exporter": "python",
   "pygments_lexer": "ipython3",
   "version": "3.8.5-final"
  },
  "orig_nbformat": 2,
  "kernelspec": {
   "name": "python3",
   "display_name": "Python 3.8.5 64-bit",
   "metadata": {
    "interpreter": {
     "hash": "082e9a3bcad0a290d0001e938aa60b99250c6c2ef33a923c00b70f9826caf4b7"
    }
   }
  }
 },
 "nbformat": 4,
 "nbformat_minor": 2,
 "cells": [
  {
   "cell_type": "code",
   "execution_count": 50,
   "metadata": {},
   "outputs": [
    {
     "output_type": "stream",
     "name": "stdout",
     "text": [
      "[{'DXP Gained': '16,378,274', 'Name': 'ETK Lykos'},\n {'DXP Gained': '1,152,719', 'Name': 'Alex_853'},\n {'DXP Gained': '150', 'Name': 'HCFireboy509'},\n {'DXP Gained': '0', 'Name': 'ETK marshall'}]\n[{'DXP Gained': '77,278,617', 'Name': 'Sheilen'},\n {'DXP Gained': '73,273,535', 'Name': 'Aczinor9'},\n {'DXP Gained': '18,628,314', 'Name': 'HisKageness'},\n {'DXP Gained': '15,271,301', 'Name': 'Gunmaster422'},\n {'DXP Gained': '10,729,125', 'Name': 'ETK Brisingr'},\n {'DXP Gained': '10,043,596', 'Name': 'Daretoachv'},\n {'DXP Gained': '8,841,751', 'Name': 'ETK Onyx'},\n {'DXP Gained': '8,328,116', 'Name': 'Lilo Kuo'},\n {'DXP Gained': '7,590,370', 'Name': 'Walrus Gang'},\n {'DXP Gained': '7,444,024', 'Name': 'Seshomarou'},\n {'DXP Gained': '5,060,114', 'Name': 'Zorrezias'},\n {'DXP Gained': '2,129,908', 'Name': 'Take Fight'},\n {'DXP Gained': '1,993,086', 'Name': 'Combustive'},\n {'DXP Gained': '253,039', 'Name': 'Kairomitsu'},\n {'DXP Gained': '33,659', 'Name': 'Sammie2532'}]\n[{'DXP Gained': '64,886,135', 'Name': 'Garh22'},\n {'DXP Gained': '50,510,735', 'Name': 'CorruptVicar'},\n {'DXP Gained': '43,595,211', 'Name': 'wahtdaef'},\n {'DXP Gained': '24,743,228', 'Name': 'LethalSeraph'},\n {'DXP Gained': '23,589,710', 'Name': 'Alhifar'},\n {'DXP Gained': '14,737,059', 'Name': 'Austiin'},\n {'DXP Gained': '14,301,722', 'Name': 'Crideceon'},\n {'DXP Gained': '11,596,414', 'Name': 'N E R V'},\n {'DXP Gained': '11,024,641', 'Name': 'Ben7196'},\n {'DXP Gained': '9,965,325', 'Name': 'Foreverr420'},\n {'DXP Gained': '2,469,653', 'Name': 'EazyUK'},\n {'DXP Gained': '1,652,286', 'Name': 'Vivia'}]\n[{'DXP Gained': '153,700,127', 'Name': 'Trimmed'},\n {'DXP Gained': '100,741,121', 'Name': 'M ichael'},\n {'DXP Gained': '79,494,526', 'Name': 'Cerene'},\n {'DXP Gained': '54,460,641', 'Name': 'Icekro'},\n {'DXP Gained': '48,512,062', 'Name': 'Deathmall'},\n {'DXP Gained': '44,469,746', 'Name': 'Hera Selene'},\n {'DXP Gained': '42,081,579', 'Name': 'FrogHam'},\n {'DXP Gained': '41,341,913', 'Name': 'Sheivot'},\n {'DXP Gained': '40,863,415', 'Name': 'Madhura01'},\n {'DXP Gained': '40,683,897', 'Name': 'IceKrystalx'},\n {'DXP Gained': '29,869,421', 'Name': 'gision'},\n {'DXP Gained': '25,053,354', 'Name': 'jothela'},\n {'DXP Gained': '22,009,690', 'Name': 'Mechchaser0'},\n {'DXP Gained': '19,668,215', 'Name': 'Sticky Pears'},\n {'DXP Gained': '15,382,448', 'Name': 'Fireboy509'},\n {'DXP Gained': '14,307,312', 'Name': 'Drizzt Wrath'},\n {'DXP Gained': '11,531,984', 'Name': 'Love-N-Greed'},\n {'DXP Gained': '8,045,345', 'Name': 'X1 Noodle'},\n {'DXP Gained': '6,302,676', 'Name': 'Mitsyangel'},\n {'DXP Gained': '4,632,161', 'Name': 'MyFinestDays'},\n {'DXP Gained': '4,332,329', 'Name': 'Kami Samah'},\n {'DXP Gained': '3,389,583', 'Name': 'SirWicked'},\n {'DXP Gained': '1,276,256', 'Name': 'MaleficentMe'},\n {'DXP Gained': '950,380', 'Name': 'ETKshinocksa'},\n {'DXP Gained': '564,934', 'Name': 'Raime'}]\n"
     ]
    }
   ],
   "source": [
    "from selenium import webdriver\n",
    "from selenium.webdriver.support.ui import Select\n",
    "from bs4 import BeautifulSoup\n",
    "import csv\n",
    "import pandas as pd\n",
    "from skills import Skills\n",
    "from pprint import pprint\n",
    "\n",
    "PATH = \"/Users/jeanie/Downloads/chromedriver\"\n",
    "driver = webdriver.Chrome(PATH)\n",
    "url = \"https://www.runeclan.com/clan/Elite_Team_Killerz/xp-tracker/1?skill=2&criteria_set1=double_xp_weekend\"\n",
    "driver.get(url)\n",
    "\n",
    "bracketA = []\n",
    "bracketB = []\n",
    "bracketC = []\n",
    "bracketD = []\n",
    "total_lvls = []\n",
    "usr = []\n",
    "\n",
    "# scrape users\n",
    "def scrape():\n",
    "    content = driver.page_source\n",
    "    soup = BeautifulSoup(content, \"html.parser\")\n",
    "    results = soup.find_all(\"table\", class_=\"regular\")[1]\n",
    "\n",
    "    for item in results.tbody.find_all(\"tr\")[2:]:\n",
    "        username = item.find_all(\"td\", class_=\"clan_td clan_rsn2\")\n",
    "        dxp = item.find_all(\"td\", class_=\"clan_td clan_xpgain_trk\")\n",
    "        \n",
    "        if not username:\n",
    "            td = soup.new_tag('td')\n",
    "            td.string=\"None\"\n",
    "            username.append(td)\n",
    "        if not dxp:\n",
    "            td = soup.new_tag('td')\n",
    "            td.string=\"None\"\n",
    "            dxp.append(td)\n",
    "            \n",
    "        usr.append(username[0].get_text())\n",
    "        usr.append(dxp[0].get_text())\n",
    "\n",
    "# click to the next page    \n",
    "def next_page():\n",
    "    link = driver.find_element_by_link_text(\"next »\")\n",
    "    link.click()\n",
    "\n",
    "def make_new_gains_dict(res):\n",
    "    dxp_gains = []\n",
    "    index = 0\n",
    "    while index < len(res):\n",
    "        new_dxp_gains_dict = {'Name': res[index], 'DXP Gained': res[index+1]}\n",
    "        dxp_gains.append(new_dxp_gains_dict)\n",
    "        index += 2\n",
    "    return dxp_gains\n",
    "        \n",
    "#remove commas in numbers for calculations and convert string numbers to int type\n",
    "def remove_commas(list):\n",
    "    index = 0\n",
    "    while index < len(list):\n",
    "        list[index]['Total lvl'] = int(list[index]['Total lvl'].replace(',', ''))\n",
    "        index += 1\n",
    "    return list\n",
    "\n",
    "# check if results name matches clan roster then is placed to appropriate bracket based on total lvl from clan roster list\n",
    "# check to see who participated in dxp\n",
    "def brackets(dxp, totals):  \n",
    "    for i in range(0, len(dxp)):\n",
    "        for j in range(0, len(totals)):\n",
    "            if dxp[i]['Name'] == totals[j]['Name']:\n",
    "                if totals[j]['Total lvl'] < 2000:\n",
    "                    bracketA.append(dxp[i])\n",
    "                elif totals[j]['Total lvl'] >= 2000 and totals[j]['Total lvl'] < 2500:\n",
    "                    bracketB.append(dxp[i])\n",
    "                elif totals[j]['Total lvl'] >= 2500 and totals[j]['Total lvl'] < 2700:\n",
    "                    bracketC.append(dxp[i])\n",
    "                elif totals[j]['Total lvl'] >= 2700:\n",
    "                    bracketD.append(dxp[i]) \n",
    "\n",
    "# open file of clan roster and append info to list of dicts\n",
    "def read_csv():                    \n",
    "    with open('total_lvls.csv', newline='', encoding='utf-8-sig') as csvfile:\n",
    "        reader = csv.DictReader(csvfile)\n",
    "        for row in reader:\n",
    "            total_lvls.append(dict(row))\n",
    " \n",
    "read_csv()       \n",
    "scrape()\n",
    "next_page()\n",
    "scrape()\n",
    "res = [ele for ele in usr if ele != 'None'] \n",
    "dxp_gains = make_new_gains_dict(res)\n",
    "totals = remove_commas(total_lvls)\n",
    "brackets(dxp_gains, totals)\n",
    "\n",
    "pprint(bracketA)\n",
    "pprint(bracketB)\n",
    "pprint(bracketC)\n",
    "pprint(bracketD)\n",
    "               \n",
    "# bracket data as dataframes for better viewing                \n",
    "bracketA_data = pd.DataFrame.from_dict(bracketA, orient='columns')\n",
    "bracketB_data = pd.DataFrame.from_dict(bracketB, orient='columns')\n",
    "bracketC_data = pd.DataFrame.from_dict(bracketC, orient='columns')\n",
    "bracketD_data = pd.DataFrame.from_dict(bracketD, orient='columns')  \n",
    "driver.quit()"
   ]
  },
  {
   "cell_type": "code",
   "execution_count": 51,
   "metadata": {},
   "outputs": [
    {
     "output_type": "execute_result",
     "data": {
      "text/plain": [
       "   Rank          Name  DXP Gained\n",
       "0     1     ETK Lykos  16,378,274\n",
       "1     2      Alex_853   1,152,719\n",
       "2     3  HCFireboy509         150\n",
       "3     4  ETK marshall           0"
      ],
      "text/html": "<div>\n<style scoped>\n    .dataframe tbody tr th:only-of-type {\n        vertical-align: middle;\n    }\n\n    .dataframe tbody tr th {\n        vertical-align: top;\n    }\n\n    .dataframe thead th {\n        text-align: right;\n    }\n</style>\n<table border=\"1\" class=\"dataframe\">\n  <thead>\n    <tr style=\"text-align: right;\">\n      <th></th>\n      <th>Rank</th>\n      <th>Name</th>\n      <th>DXP Gained</th>\n    </tr>\n  </thead>\n  <tbody>\n    <tr>\n      <th>0</th>\n      <td>1</td>\n      <td>ETK Lykos</td>\n      <td>16,378,274</td>\n    </tr>\n    <tr>\n      <th>1</th>\n      <td>2</td>\n      <td>Alex_853</td>\n      <td>1,152,719</td>\n    </tr>\n    <tr>\n      <th>2</th>\n      <td>3</td>\n      <td>HCFireboy509</td>\n      <td>150</td>\n    </tr>\n    <tr>\n      <th>3</th>\n      <td>4</td>\n      <td>ETK marshall</td>\n      <td>0</td>\n    </tr>\n  </tbody>\n</table>\n</div>"
     },
     "metadata": {},
     "execution_count": 51
    }
   ],
   "source": [
    "bracketA_data['Rank'] = range(1, len(bracketA_data) + 1)\n",
    "bracketA_data = bracketA_data[list(('Rank', 'Name', 'DXP Gained'))]\n",
    "bracketA_data"
   ]
  },
  {
   "cell_type": "code",
   "execution_count": 52,
   "metadata": {},
   "outputs": [
    {
     "output_type": "execute_result",
     "data": {
      "text/plain": [
       "    Rank          Name  DXP Gained\n",
       "0      1       Sheilen  77,278,617\n",
       "1      2      Aczinor9  73,273,535\n",
       "2      3   HisKageness  18,628,314\n",
       "3      4  Gunmaster422  15,271,301\n",
       "4      5  ETK Brisingr  10,729,125\n",
       "5      6    Daretoachv  10,043,596\n",
       "6      7      ETK Onyx   8,841,751\n",
       "7      8      Lilo Kuo   8,328,116\n",
       "8      9   Walrus Gang   7,590,370\n",
       "9     10    Seshomarou   7,444,024\n",
       "10    11     Zorrezias   5,060,114\n",
       "11    12    Take Fight   2,129,908\n",
       "12    13    Combustive   1,993,086\n",
       "13    14    Kairomitsu     253,039\n",
       "14    15    Sammie2532      33,659"
      ],
      "text/html": "<div>\n<style scoped>\n    .dataframe tbody tr th:only-of-type {\n        vertical-align: middle;\n    }\n\n    .dataframe tbody tr th {\n        vertical-align: top;\n    }\n\n    .dataframe thead th {\n        text-align: right;\n    }\n</style>\n<table border=\"1\" class=\"dataframe\">\n  <thead>\n    <tr style=\"text-align: right;\">\n      <th></th>\n      <th>Rank</th>\n      <th>Name</th>\n      <th>DXP Gained</th>\n    </tr>\n  </thead>\n  <tbody>\n    <tr>\n      <th>0</th>\n      <td>1</td>\n      <td>Sheilen</td>\n      <td>77,278,617</td>\n    </tr>\n    <tr>\n      <th>1</th>\n      <td>2</td>\n      <td>Aczinor9</td>\n      <td>73,273,535</td>\n    </tr>\n    <tr>\n      <th>2</th>\n      <td>3</td>\n      <td>HisKageness</td>\n      <td>18,628,314</td>\n    </tr>\n    <tr>\n      <th>3</th>\n      <td>4</td>\n      <td>Gunmaster422</td>\n      <td>15,271,301</td>\n    </tr>\n    <tr>\n      <th>4</th>\n      <td>5</td>\n      <td>ETK Brisingr</td>\n      <td>10,729,125</td>\n    </tr>\n    <tr>\n      <th>5</th>\n      <td>6</td>\n      <td>Daretoachv</td>\n      <td>10,043,596</td>\n    </tr>\n    <tr>\n      <th>6</th>\n      <td>7</td>\n      <td>ETK Onyx</td>\n      <td>8,841,751</td>\n    </tr>\n    <tr>\n      <th>7</th>\n      <td>8</td>\n      <td>Lilo Kuo</td>\n      <td>8,328,116</td>\n    </tr>\n    <tr>\n      <th>8</th>\n      <td>9</td>\n      <td>Walrus Gang</td>\n      <td>7,590,370</td>\n    </tr>\n    <tr>\n      <th>9</th>\n      <td>10</td>\n      <td>Seshomarou</td>\n      <td>7,444,024</td>\n    </tr>\n    <tr>\n      <th>10</th>\n      <td>11</td>\n      <td>Zorrezias</td>\n      <td>5,060,114</td>\n    </tr>\n    <tr>\n      <th>11</th>\n      <td>12</td>\n      <td>Take Fight</td>\n      <td>2,129,908</td>\n    </tr>\n    <tr>\n      <th>12</th>\n      <td>13</td>\n      <td>Combustive</td>\n      <td>1,993,086</td>\n    </tr>\n    <tr>\n      <th>13</th>\n      <td>14</td>\n      <td>Kairomitsu</td>\n      <td>253,039</td>\n    </tr>\n    <tr>\n      <th>14</th>\n      <td>15</td>\n      <td>Sammie2532</td>\n      <td>33,659</td>\n    </tr>\n  </tbody>\n</table>\n</div>"
     },
     "metadata": {},
     "execution_count": 52
    }
   ],
   "source": [
    "bracketB_data['Rank'] = range(1, len(bracketB_data) + 1)\n",
    "bracketB_data = bracketB_data[list(('Rank', 'Name', 'DXP Gained'))]\n",
    "bracketB_data"
   ]
  },
  {
   "cell_type": "code",
   "execution_count": 53,
   "metadata": {},
   "outputs": [
    {
     "output_type": "execute_result",
     "data": {
      "text/plain": [
       "    Rank          Name  DXP Gained\n",
       "0      1        Garh22  64,886,135\n",
       "1      2  CorruptVicar  50,510,735\n",
       "2      3      wahtdaef  43,595,211\n",
       "3      4  LethalSeraph  24,743,228\n",
       "4      5       Alhifar  23,589,710\n",
       "5      6       Austiin  14,737,059\n",
       "6      7     Crideceon  14,301,722\n",
       "7      8       N E R V  11,596,414\n",
       "8      9       Ben7196  11,024,641\n",
       "9     10   Foreverr420   9,965,325\n",
       "10    11        EazyUK   2,469,653\n",
       "11    12         Vivia   1,652,286"
      ],
      "text/html": "<div>\n<style scoped>\n    .dataframe tbody tr th:only-of-type {\n        vertical-align: middle;\n    }\n\n    .dataframe tbody tr th {\n        vertical-align: top;\n    }\n\n    .dataframe thead th {\n        text-align: right;\n    }\n</style>\n<table border=\"1\" class=\"dataframe\">\n  <thead>\n    <tr style=\"text-align: right;\">\n      <th></th>\n      <th>Rank</th>\n      <th>Name</th>\n      <th>DXP Gained</th>\n    </tr>\n  </thead>\n  <tbody>\n    <tr>\n      <th>0</th>\n      <td>1</td>\n      <td>Garh22</td>\n      <td>64,886,135</td>\n    </tr>\n    <tr>\n      <th>1</th>\n      <td>2</td>\n      <td>CorruptVicar</td>\n      <td>50,510,735</td>\n    </tr>\n    <tr>\n      <th>2</th>\n      <td>3</td>\n      <td>wahtdaef</td>\n      <td>43,595,211</td>\n    </tr>\n    <tr>\n      <th>3</th>\n      <td>4</td>\n      <td>LethalSeraph</td>\n      <td>24,743,228</td>\n    </tr>\n    <tr>\n      <th>4</th>\n      <td>5</td>\n      <td>Alhifar</td>\n      <td>23,589,710</td>\n    </tr>\n    <tr>\n      <th>5</th>\n      <td>6</td>\n      <td>Austiin</td>\n      <td>14,737,059</td>\n    </tr>\n    <tr>\n      <th>6</th>\n      <td>7</td>\n      <td>Crideceon</td>\n      <td>14,301,722</td>\n    </tr>\n    <tr>\n      <th>7</th>\n      <td>8</td>\n      <td>N E R V</td>\n      <td>11,596,414</td>\n    </tr>\n    <tr>\n      <th>8</th>\n      <td>9</td>\n      <td>Ben7196</td>\n      <td>11,024,641</td>\n    </tr>\n    <tr>\n      <th>9</th>\n      <td>10</td>\n      <td>Foreverr420</td>\n      <td>9,965,325</td>\n    </tr>\n    <tr>\n      <th>10</th>\n      <td>11</td>\n      <td>EazyUK</td>\n      <td>2,469,653</td>\n    </tr>\n    <tr>\n      <th>11</th>\n      <td>12</td>\n      <td>Vivia</td>\n      <td>1,652,286</td>\n    </tr>\n  </tbody>\n</table>\n</div>"
     },
     "metadata": {},
     "execution_count": 53
    }
   ],
   "source": [
    "bracketC_data['Rank'] = range(1, len(bracketC_data) + 1)\n",
    "bracketC_data = bracketC_data[list(('Rank', 'Name', 'DXP Gained'))]\n",
    "bracketC_data"
   ]
  },
  {
   "cell_type": "code",
   "execution_count": 54,
   "metadata": {},
   "outputs": [
    {
     "output_type": "execute_result",
     "data": {
      "text/plain": [
       "    Rank          Name   DXP Gained\n",
       "0      1       Trimmed  153,700,127\n",
       "1      2      M ichael  100,741,121\n",
       "2      3        Cerene   79,494,526\n",
       "3      4        Icekro   54,460,641\n",
       "4      5     Deathmall   48,512,062\n",
       "5      6   Hera Selene   44,469,746\n",
       "6      7       FrogHam   42,081,579\n",
       "7      8       Sheivot   41,341,913\n",
       "8      9     Madhura01   40,863,415\n",
       "9     10   IceKrystalx   40,683,897\n",
       "10    11        gision   29,869,421\n",
       "11    12       jothela   25,053,354\n",
       "12    13   Mechchaser0   22,009,690\n",
       "13    14  Sticky Pears   19,668,215\n",
       "14    15    Fireboy509   15,382,448\n",
       "15    16  Drizzt Wrath   14,307,312\n",
       "16    17  Love-N-Greed   11,531,984\n",
       "17    18     X1 Noodle    8,045,345\n",
       "18    19    Mitsyangel    6,302,676\n",
       "19    20  MyFinestDays    4,632,161\n",
       "20    21    Kami Samah    4,332,329\n",
       "21    22     SirWicked    3,389,583\n",
       "22    23  MaleficentMe    1,276,256\n",
       "23    24  ETKshinocksa      950,380\n",
       "24    25         Raime      564,934"
      ],
      "text/html": "<div>\n<style scoped>\n    .dataframe tbody tr th:only-of-type {\n        vertical-align: middle;\n    }\n\n    .dataframe tbody tr th {\n        vertical-align: top;\n    }\n\n    .dataframe thead th {\n        text-align: right;\n    }\n</style>\n<table border=\"1\" class=\"dataframe\">\n  <thead>\n    <tr style=\"text-align: right;\">\n      <th></th>\n      <th>Rank</th>\n      <th>Name</th>\n      <th>DXP Gained</th>\n    </tr>\n  </thead>\n  <tbody>\n    <tr>\n      <th>0</th>\n      <td>1</td>\n      <td>Trimmed</td>\n      <td>153,700,127</td>\n    </tr>\n    <tr>\n      <th>1</th>\n      <td>2</td>\n      <td>M ichael</td>\n      <td>100,741,121</td>\n    </tr>\n    <tr>\n      <th>2</th>\n      <td>3</td>\n      <td>Cerene</td>\n      <td>79,494,526</td>\n    </tr>\n    <tr>\n      <th>3</th>\n      <td>4</td>\n      <td>Icekro</td>\n      <td>54,460,641</td>\n    </tr>\n    <tr>\n      <th>4</th>\n      <td>5</td>\n      <td>Deathmall</td>\n      <td>48,512,062</td>\n    </tr>\n    <tr>\n      <th>5</th>\n      <td>6</td>\n      <td>Hera Selene</td>\n      <td>44,469,746</td>\n    </tr>\n    <tr>\n      <th>6</th>\n      <td>7</td>\n      <td>FrogHam</td>\n      <td>42,081,579</td>\n    </tr>\n    <tr>\n      <th>7</th>\n      <td>8</td>\n      <td>Sheivot</td>\n      <td>41,341,913</td>\n    </tr>\n    <tr>\n      <th>8</th>\n      <td>9</td>\n      <td>Madhura01</td>\n      <td>40,863,415</td>\n    </tr>\n    <tr>\n      <th>9</th>\n      <td>10</td>\n      <td>IceKrystalx</td>\n      <td>40,683,897</td>\n    </tr>\n    <tr>\n      <th>10</th>\n      <td>11</td>\n      <td>gision</td>\n      <td>29,869,421</td>\n    </tr>\n    <tr>\n      <th>11</th>\n      <td>12</td>\n      <td>jothela</td>\n      <td>25,053,354</td>\n    </tr>\n    <tr>\n      <th>12</th>\n      <td>13</td>\n      <td>Mechchaser0</td>\n      <td>22,009,690</td>\n    </tr>\n    <tr>\n      <th>13</th>\n      <td>14</td>\n      <td>Sticky Pears</td>\n      <td>19,668,215</td>\n    </tr>\n    <tr>\n      <th>14</th>\n      <td>15</td>\n      <td>Fireboy509</td>\n      <td>15,382,448</td>\n    </tr>\n    <tr>\n      <th>15</th>\n      <td>16</td>\n      <td>Drizzt Wrath</td>\n      <td>14,307,312</td>\n    </tr>\n    <tr>\n      <th>16</th>\n      <td>17</td>\n      <td>Love-N-Greed</td>\n      <td>11,531,984</td>\n    </tr>\n    <tr>\n      <th>17</th>\n      <td>18</td>\n      <td>X1 Noodle</td>\n      <td>8,045,345</td>\n    </tr>\n    <tr>\n      <th>18</th>\n      <td>19</td>\n      <td>Mitsyangel</td>\n      <td>6,302,676</td>\n    </tr>\n    <tr>\n      <th>19</th>\n      <td>20</td>\n      <td>MyFinestDays</td>\n      <td>4,632,161</td>\n    </tr>\n    <tr>\n      <th>20</th>\n      <td>21</td>\n      <td>Kami Samah</td>\n      <td>4,332,329</td>\n    </tr>\n    <tr>\n      <th>21</th>\n      <td>22</td>\n      <td>SirWicked</td>\n      <td>3,389,583</td>\n    </tr>\n    <tr>\n      <th>22</th>\n      <td>23</td>\n      <td>MaleficentMe</td>\n      <td>1,276,256</td>\n    </tr>\n    <tr>\n      <th>23</th>\n      <td>24</td>\n      <td>ETKshinocksa</td>\n      <td>950,380</td>\n    </tr>\n    <tr>\n      <th>24</th>\n      <td>25</td>\n      <td>Raime</td>\n      <td>564,934</td>\n    </tr>\n  </tbody>\n</table>\n</div>"
     },
     "metadata": {},
     "execution_count": 54
    }
   ],
   "source": [
    "bracketD_data['Rank'] = range(1, len(bracketD_data) + 1)\n",
    "bracketD_data = bracketD_data[list(('Rank', 'Name', 'DXP Gained'))]\n",
    "bracketD_data"
   ]
  },
  {
   "cell_type": "code",
   "execution_count": null,
   "metadata": {},
   "outputs": [],
   "source": []
  }
 ]
}